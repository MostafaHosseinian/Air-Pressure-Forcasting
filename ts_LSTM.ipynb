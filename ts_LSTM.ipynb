{
  "nbformat": 4,
  "nbformat_minor": 0,
  "metadata": {
    "colab": {
      "name": "Copy of ts_LSTM.ipynb",
      "provenance": [],
      "collapsed_sections": []
    },
    "kernelspec": {
      "name": "python3",
      "display_name": "Python 3"
    }
  },
  "cells": [
    {
      "cell_type": "markdown",
      "metadata": {
        "id": "dMKaGzI1auFK"
      },
      "source": [
        "# Air Pressure Forecasting on Beijing Air Quality dataset"
      ]
    },
    {
      "cell_type": "markdown",
      "metadata": {
        "id": "3MmX-tPJbgmh"
      },
      "source": [
        "The data set is obtained from [UCI Machine Learning Repository](https://archive.ics.uci.edu/ml/datasets/Beijing+Multi-Site+Air-Quality+Data). Beijing's official air-quality statistics are composed using hourly data from different stations. This study has a focus on Air Pressure achieved from Aotizhongxin station between March 2013 to February 2017. The pressure feature in this data set has several missing values. These values are sorted out using the average strategy to fill them out. The preprocessing and manipulating are done to make the data ready for more analysis. In addition, the last years of data are employed for the test set to assess the final model. The rest of the data is used to train the LSTM network. LSTM networks are well-suited for classifying, processing, and making predictions based on time series data. This is a complex area of deep learning that is difficult to interpret, but precise to predict the sequential data.\r\n",
        "\r\n",
        "The result shows that the mean squared error for the fitted model is around 0.0002 which is perfect for the forecasting process.\r\n",
        "\r\n",
        "It should be noted that the codes are executed in the Google Colab using Python 3 kernel."
      ]
    },
    {
      "cell_type": "code",
      "metadata": {
        "colab": {
          "base_uri": "https://localhost:8080/"
        },
        "id": "1AWkJ5lUaqXn",
        "outputId": "a5c96884-bd1d-4565-8950-9f7cb9f07cb2"
      },
      "source": [
        "# import libreries and packages\r\n",
        "import numpy as np\r\n",
        "import pandas as pd\r\n",
        "import math\r\n",
        "import matplotlib.pyplot as plt\r\n",
        "import seaborn as sns\r\n",
        "import datetime\r\n",
        "from statsmodels.tsa import stattools\r\n",
        "from sklearn.preprocessing import MinMaxScaler\r\n",
        "from sklearn.metrics import mean_squared_error\r\n",
        "from keras import models, layers, regularizers, wrappers\r\n",
        "from google.colab import files"
      ],
      "execution_count": 1,
      "outputs": [
        {
          "output_type": "stream",
          "text": [
            "/usr/local/lib/python3.7/dist-packages/statsmodels/tools/_testing.py:19: FutureWarning: pandas.util.testing is deprecated. Use the functions in the public API at pandas.testing instead.\n",
            "  import pandas.util.testing as tm\n"
          ],
          "name": "stderr"
        }
      ]
    },
    {
      "cell_type": "code",
      "metadata": {
        "id": "ARX3ylIqiKYM",
        "colab": {
          "resources": {
            "http://localhost:8080/nbextensions/google.colab/files.js": {
              "data": "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",
              "ok": true,
              "headers": [
                [
                  "content-type",
                  "application/javascript"
                ]
              ],
              "status": 200,
              "status_text": ""
            }
          },
          "base_uri": "https://localhost:8080/",
          "height": 73
        },
        "outputId": "3c5065cb-a262-4274-e54d-0a77d038d62e"
      },
      "source": [
        "uploaded = files.upload()"
      ],
      "execution_count": 2,
      "outputs": [
        {
          "output_type": "display_data",
          "data": {
            "text/html": [
              "\n",
              "     <input type=\"file\" id=\"files-f38a83b6-7f02-4f58-99bc-a24d60f0e4c8\" name=\"files[]\" multiple disabled\n",
              "        style=\"border:none\" />\n",
              "     <output id=\"result-f38a83b6-7f02-4f58-99bc-a24d60f0e4c8\">\n",
              "      Upload widget is only available when the cell has been executed in the\n",
              "      current browser session. Please rerun this cell to enable.\n",
              "      </output>\n",
              "      <script src=\"/nbextensions/google.colab/files.js\"></script> "
            ],
            "text/plain": [
              "<IPython.core.display.HTML object>"
            ]
          },
          "metadata": {
            "tags": []
          }
        },
        {
          "output_type": "stream",
          "text": [
            "Saving PRSA_Data_Aotizhongxin_20130301-20170228.csv to PRSA_Data_Aotizhongxin_20130301-20170228 (4).csv\n"
          ],
          "name": "stdout"
        }
      ]
    },
    {
      "cell_type": "code",
      "metadata": {
        "id": "IxLfylN6iVqj"
      },
      "source": [
        "import io\n",
        "Data = pd.read_csv(io.BytesIO(uploaded['PRSA_Data_Aotizhongxin_20130301-20170228.csv']))"
      ],
      "execution_count": 3,
      "outputs": []
    },
    {
      "cell_type": "markdown",
      "metadata": {
        "id": "B1tmdXjJhjtI"
      },
      "source": [
        "## Looking at the data"
      ]
    },
    {
      "cell_type": "code",
      "metadata": {
        "colab": {
          "base_uri": "https://localhost:8080/"
        },
        "id": "t1COht_ZJIlZ",
        "outputId": "7cd27862-64f0-4b71-ffad-42a21cb59227"
      },
      "source": [
        "Data.columns"
      ],
      "execution_count": 4,
      "outputs": [
        {
          "output_type": "execute_result",
          "data": {
            "text/plain": [
              "Index(['No', 'year', 'month', 'day', 'hour', 'PM2.5', 'PM10', 'SO2', 'NO2',\n",
              "       'CO', 'O3', 'TEMP', 'PRES', 'DEWP', 'RAIN', 'wd', 'WSPM', 'station'],\n",
              "      dtype='object')"
            ]
          },
          "metadata": {
            "tags": []
          },
          "execution_count": 4
        }
      ]
    },
    {
      "cell_type": "code",
      "metadata": {
        "colab": {
          "base_uri": "https://localhost:8080/"
        },
        "id": "-jgbRTKWNQ-6",
        "outputId": "774dab84-0097-48cb-853b-41fd723f19af"
      },
      "source": [
        "# Check the shape of data set\r\n",
        "Data.shape"
      ],
      "execution_count": 5,
      "outputs": [
        {
          "output_type": "execute_result",
          "data": {
            "text/plain": [
              "(35064, 18)"
            ]
          },
          "metadata": {
            "tags": []
          },
          "execution_count": 5
        }
      ]
    },
    {
      "cell_type": "code",
      "metadata": {
        "colab": {
          "base_uri": "https://localhost:8080/"
        },
        "id": "dz48-abqNTPM",
        "outputId": "e896538f-0c90-46ae-8cf5-c9f48762ec0d"
      },
      "source": [
        "# a concise summary of a Data\r\n",
        "Data.info()"
      ],
      "execution_count": 6,
      "outputs": [
        {
          "output_type": "stream",
          "text": [
            "<class 'pandas.core.frame.DataFrame'>\n",
            "RangeIndex: 35064 entries, 0 to 35063\n",
            "Data columns (total 18 columns):\n",
            " #   Column   Non-Null Count  Dtype  \n",
            "---  ------   --------------  -----  \n",
            " 0   No       35064 non-null  int64  \n",
            " 1   year     35064 non-null  int64  \n",
            " 2   month    35064 non-null  int64  \n",
            " 3   day      35064 non-null  int64  \n",
            " 4   hour     35064 non-null  int64  \n",
            " 5   PM2.5    34139 non-null  float64\n",
            " 6   PM10     34346 non-null  float64\n",
            " 7   SO2      34129 non-null  float64\n",
            " 8   NO2      34041 non-null  float64\n",
            " 9   CO       33288 non-null  float64\n",
            " 10  O3       33345 non-null  float64\n",
            " 11  TEMP     35044 non-null  float64\n",
            " 12  PRES     35044 non-null  float64\n",
            " 13  DEWP     35044 non-null  float64\n",
            " 14  RAIN     35044 non-null  float64\n",
            " 15  wd       34983 non-null  object \n",
            " 16  WSPM     35050 non-null  float64\n",
            " 17  station  35064 non-null  object \n",
            "dtypes: float64(11), int64(5), object(2)\n",
            "memory usage: 4.8+ MB\n"
          ],
          "name": "stdout"
        }
      ]
    },
    {
      "cell_type": "code",
      "metadata": {
        "colab": {
          "base_uri": "https://localhost:8080/"
        },
        "id": "nSSyZp6ChCXC",
        "outputId": "a91b429b-e6a2-4680-81e3-145388d909e0"
      },
      "source": [
        "# Pressure feature description\r\n",
        "Data['PRES'].describe().round(2)"
      ],
      "execution_count": 7,
      "outputs": [
        {
          "output_type": "execute_result",
          "data": {
            "text/plain": [
              "count    35044.00\n",
              "mean      1011.85\n",
              "std         10.40\n",
              "min        985.90\n",
              "25%       1003.30\n",
              "50%       1011.40\n",
              "75%       1020.10\n",
              "max       1042.00\n",
              "Name: PRES, dtype: float64"
            ]
          },
          "metadata": {
            "tags": []
          },
          "execution_count": 7
        }
      ]
    },
    {
      "cell_type": "markdown",
      "metadata": {
        "id": "Cfmp2WfbguY_"
      },
      "source": [
        "## Data Preparation"
      ]
    },
    {
      "cell_type": "code",
      "metadata": {
        "id": "ATSAylTXNa48"
      },
      "source": [
        "# The pressure feature has several missing values\r\n",
        "\r\n",
        "# Function to impute missing data\r\n",
        "def missing_values (df, col):\r\n",
        "  avg = df[col].mean()\r\n",
        "  df[col+\"_imputed\"] = df[col]\r\n",
        "  df[col+\"_imputed\"].fillna(avg, inplace=True)\r\n",
        "\r\n",
        "# impute pressure feature\r\n",
        "missing_values(df=Data, col=\"PRES\")"
      ],
      "execution_count": 8,
      "outputs": []
    },
    {
      "cell_type": "code",
      "metadata": {
        "colab": {
          "base_uri": "https://localhost:8080/"
        },
        "id": "G8_KplBeOCO5",
        "outputId": "5b80d447-f3b0-42e3-c539-fadd237f5c2c"
      },
      "source": [
        "print('number of missing value before imputing for pressure feature:', Data['PRES'].isnull().sum())\r\n",
        "print('-'*70)\r\n",
        "print('number of missing value after imputing for pressure feature:',Data['PRES_imputed'].isnull().sum())"
      ],
      "execution_count": 9,
      "outputs": [
        {
          "output_type": "stream",
          "text": [
            "number of missing value before imputing for pressure feature: 20\n",
            "----------------------------------------------------------------------\n",
            "number of missing value after imputing for pressure feature: 0\n"
          ],
          "name": "stdout"
        }
      ]
    },
    {
      "cell_type": "code",
      "metadata": {
        "id": "sB9A21Ywit2k"
      },
      "source": [
        "# make a column for date time\r\n",
        "Data['datetime'] =  Data[['year', 'month', 'day', 'hour']].apply(lambda row: datetime.datetime(year=row['year'], month=row['month'], day=row['day'], hour=row['hour']), axis=1)"
      ],
      "execution_count": 10,
      "outputs": []
    },
    {
      "cell_type": "code",
      "metadata": {
        "id": "rIgyNr81iuC1"
      },
      "source": [
        "# Sort by the date time\r\n",
        "Data.sort_values('datetime', ascending=True, inplace=True)"
      ],
      "execution_count": 11,
      "outputs": []
    },
    {
      "cell_type": "code",
      "metadata": {
        "id": "pYQIKpPsiq33",
        "colab": {
          "base_uri": "https://localhost:8080/",
          "height": 350
        },
        "outputId": "2fdbd044-a1fa-4b15-a0cd-5569148b573a"
      },
      "source": [
        "# box plot to show distributions with respect to pressure\r\n",
        "sns.boxplot(Data['PRES_imputed'])"
      ],
      "execution_count": 12,
      "outputs": [
        {
          "output_type": "stream",
          "text": [
            "/usr/local/lib/python3.7/dist-packages/seaborn/_decorators.py:43: FutureWarning: Pass the following variable as a keyword arg: x. From version 0.12, the only valid positional argument will be `data`, and passing other arguments without an explicit keyword will result in an error or misinterpretation.\n",
            "  FutureWarning\n"
          ],
          "name": "stderr"
        },
        {
          "output_type": "execute_result",
          "data": {
            "text/plain": [
              "<matplotlib.axes._subplots.AxesSubplot at 0x7f44fe1edf90>"
            ]
          },
          "metadata": {
            "tags": []
          },
          "execution_count": 12
        },
        {
          "output_type": "display_data",
          "data": {
            "image/png": "[encoded data removed]",
            "text/plain": [
              "<Figure size 432x288 with 1 Axes>"
            ]
          },
          "metadata": {
            "tags": [],
            "needs_background": "light"
          }
        }
      ]
    },
    {
      "cell_type": "code",
      "metadata": {
        "id": "SC_isH33jVCs",
        "colab": {
          "base_uri": "https://localhost:8080/",
          "height": 312
        },
        "outputId": "99927c89-16b6-462e-b9f9-424a50b22ca2"
      },
      "source": [
        "# pressure feature\n",
        "plt.plot(Data['PRES_imputed'])\n",
        "plt.title('Time series of Air Pressure')\n",
        "plt.xlabel('Index')\n",
        "plt.ylabel('Air Pressure readings in hPa')"
      ],
      "execution_count": 13,
      "outputs": [
        {
          "output_type": "execute_result",
          "data": {
            "text/plain": [
              "Text(0, 0.5, 'Air Pressure readings in hPa')"
            ]
          },
          "metadata": {
            "tags": []
          },
          "execution_count": 13
        },
        {
          "output_type": "display_data",
          "data": {
            "image/png": "[encoded data removed]",
            "text/plain": [
              "<Figure size 432x288 with 1 Axes>"
            ]
          },
          "metadata": {
            "tags": [],
            "needs_background": "light"
          }
        }
      ]
    },
    {
      "cell_type": "markdown",
      "metadata": {
        "id": "HmCNiLTEiLbB"
      },
      "source": [
        "Augmented Dickey–Fuller (ADF) test for a unit root in a univariate process in the presence of serial.\r\n",
        "**ADF** tests the null hypothesis that a unit root is present in a time series sample."
      ]
    },
    {
      "cell_type": "code",
      "metadata": {
        "id": "63Jxog0Zj6_h",
        "colab": {
          "base_uri": "https://localhost:8080/"
        },
        "outputId": "543a0143-7867-4059-9624-b3d3184058c3"
      },
      "source": [
        "t = stattools.adfuller(Data['PRES_imputed'])\n",
        "print('The p-value is: ', t[1])"
      ],
      "execution_count": 14,
      "outputs": [
        {
          "output_type": "stream",
          "text": [
            "The p-value is:  3.93081270892354e-14\n"
          ],
          "name": "stdout"
        }
      ]
    },
    {
      "cell_type": "markdown",
      "metadata": {
        "id": "UKPjqN3EhypU"
      },
      "source": [
        "When the p-value is smaller than significance level at $\\alpha=0.05$, the null hypothesis may be rejected."
      ]
    },
    {
      "cell_type": "code",
      "metadata": {
        "id": "rzu-8BReleAu"
      },
      "source": [
        "# Split data into train and test sets\n",
        "split_date = datetime.datetime(year=2016, month=2, day=28, hour=0)\n",
        "Data_train = Data.loc[Data['datetime']<split_date]\n",
        "Data_test = Data.loc[Data['datetime']>=split_date]"
      ],
      "execution_count": 15,
      "outputs": []
    },
    {
      "cell_type": "code",
      "metadata": {
        "id": "nRXINv_5mWQJ",
        "colab": {
          "base_uri": "https://localhost:8080/"
        },
        "outputId": "6f678d97-c120-4269-f713-fbedfe58557a"
      },
      "source": [
        "print('Shape of train:', Data_train.shape)\n",
        "print('Shape of test:', Data_test.shape)"
      ],
      "execution_count": 16,
      "outputs": [
        {
          "output_type": "stream",
          "text": [
            "Shape of train: (26256, 20)\n",
            "Shape of test: (8808, 20)\n"
          ],
          "name": "stdout"
        }
      ]
    },
    {
      "cell_type": "code",
      "metadata": {
        "colab": {
          "base_uri": "https://localhost:8080/"
        },
        "id": "6Xu4p_gKU84Y",
        "outputId": "ca7dd93b-23fa-4608-e483-13ec3b40a89e"
      },
      "source": [
        "# Select the imputed pressure feature for the rest of the analysis \r\n",
        "\r\n",
        "# Find column index\r\n",
        "ci = Data.columns.get_loc(\"PRES_imputed\")\r\n",
        "print(ci)\r\n",
        "\r\n",
        "PRES_train = Data_train.iloc[:, ci:ci+1].values\r\n",
        "PRES_test = Data_test.iloc[:, ci:ci+1].values"
      ],
      "execution_count": 17,
      "outputs": [
        {
          "output_type": "stream",
          "text": [
            "18\n"
          ],
          "name": "stdout"
        }
      ]
    },
    {
      "cell_type": "code",
      "metadata": {
        "id": "dkiDlKA9qeKG"
      },
      "source": [
        "# Data Normalization on train and test sets\n",
        "scaler = MinMaxScaler(feature_range=(0, 1))\n",
        "scaled_PRES_train = scaler.fit_transform(PRES_train)\n",
        "scaled_PRES_test = scaler.fit_transform(PRES_test)"
      ],
      "execution_count": 18,
      "outputs": []
    },
    {
      "cell_type": "code",
      "metadata": {
        "id": "PljYV2uBmdfo"
      },
      "source": [
        "#Convert Training Data to Right Shape\n",
        "x_train = []\n",
        "y_train = []\n",
        "# Execute a loop for making supervised data for forecasting process\n",
        "for i in range(7, Data_train.shape[0]):\n",
        "  x_train.append(scaled_PRES_train[i-7:i, 0])\n",
        "  y_train.append(scaled_PRES_train[i, 0])"
      ],
      "execution_count": 19,
      "outputs": []
    },
    {
      "cell_type": "code",
      "metadata": {
        "id": "luREoP8Yo0lh"
      },
      "source": [
        "# Convert both training lists to numpy.array\n",
        "x_train, y_train = np.array(x_train), np.array(y_train)"
      ],
      "execution_count": 20,
      "outputs": []
    },
    {
      "cell_type": "code",
      "metadata": {
        "id": "bLZNtNyXsmHf"
      },
      "source": [
        "# Convert testing Data to Right Shape\n",
        "x_test = []\n",
        "y_test = []\n",
        "# Execute a loop for making supervised data for forecasting\n",
        "for i in range(7, Data_test.shape[0]):\n",
        "  x_test.append(scaled_PRES_test[i-7:i, 0])\n",
        "  y_test.append(scaled_PRES_test[i, 0])"
      ],
      "execution_count": 21,
      "outputs": []
    },
    {
      "cell_type": "code",
      "metadata": {
        "id": "QShwXzaGs-z5"
      },
      "source": [
        "# Convert both testing lists to numpy.array\n",
        "x_test, y_test = np.array(x_test), np.array(y_test)"
      ],
      "execution_count": 22,
      "outputs": []
    },
    {
      "cell_type": "code",
      "metadata": {
        "id": "031HF4l7DVSg"
      },
      "source": [
        "# Reshape train and test sets to the right shape for LSTM\n",
        "x_train = x_train.reshape(x_train.shape[0], x_train.shape[1], 1)\n",
        "x_test = x_test.reshape(x_test.shape[0], x_test.shape[1], 1)\n"
      ],
      "execution_count": 23,
      "outputs": []
    },
    {
      "cell_type": "code",
      "metadata": {
        "id": "fIIcpCcctGyl",
        "colab": {
          "base_uri": "https://localhost:8080/"
        },
        "outputId": "0ff1a2af-b21d-4fac-d1d1-f752cfcf0799"
      },
      "source": [
        "print('Shape of train arrays:', x_train.shape, y_train.shape)\n",
        "print('Shape of test arrays:', x_test.shape, y_test.shape)"
      ],
      "execution_count": 24,
      "outputs": [
        {
          "output_type": "stream",
          "text": [
            "Shape of train arrays: (26249, 7, 1) (26249,)\n",
            "Shape of test arrays: (8801, 7, 1) (8801,)\n"
          ],
          "name": "stdout"
        }
      ]
    },
    {
      "cell_type": "markdown",
      "metadata": {
        "id": "Ph2rMOdYjK6X"
      },
      "source": [
        "## Model Creation for the Forecasting"
      ]
    },
    {
      "cell_type": "code",
      "metadata": {
        "id": "PDi0tkyZtnBT"
      },
      "source": [
        "# Ctreate LSTM network\n",
        "model = models.Sequential()\n",
        "# input layer and hidden layer\n",
        "model.add(layers.LSTM(units=64, input_shape=(x_train.shape[1],1)))\n",
        "model.add(layers.Dropout(0.2))  # Dropout layer to prevent overfitting\n",
        "# Output layer\n",
        "model.add(layers.Dense(units=1))\n",
        "# Compile the model\n",
        "model.compile(optimizer = 'adamax', loss = 'mse', metrics=['mse'])"
      ],
      "execution_count": 25,
      "outputs": []
    },
    {
      "cell_type": "code",
      "metadata": {
        "id": "L1KXj13NxHPI",
        "colab": {
          "base_uri": "https://localhost:8080/"
        },
        "outputId": "d8c1bbba-fc62-4e69-8118-fbb3ca7c6a69"
      },
      "source": [
        "model.fit(x=x_train, y=y_train, batch_size=16 ,epochs=20)"
      ],
      "execution_count": 26,
      "outputs": [
        {
          "output_type": "stream",
          "text": [
            "Epoch 1/20\n",
            "1641/1641 [==============================] - 9s 4ms/step - loss: 0.0099 - mse: 0.0099\n",
            "Epoch 2/20\n",
            "1641/1641 [==============================] - 7s 4ms/step - loss: 0.0019 - mse: 0.0019\n",
            "Epoch 3/20\n",
            "1641/1641 [==============================] - 7s 4ms/step - loss: 0.0013 - mse: 0.0013\n",
            "Epoch 4/20\n",
            "1641/1641 [==============================] - 7s 4ms/step - loss: 0.0010 - mse: 0.0010\n",
            "Epoch 5/20\n",
            "1641/1641 [==============================] - 7s 4ms/step - loss: 8.6439e-04 - mse: 8.6439e-04\n",
            "Epoch 6/20\n",
            "1641/1641 [==============================] - 7s 4ms/step - loss: 7.1681e-04 - mse: 7.1681e-04\n",
            "Epoch 7/20\n",
            "1641/1641 [==============================] - 7s 4ms/step - loss: 6.3316e-04 - mse: 6.3316e-04\n",
            "Epoch 8/20\n",
            "1641/1641 [==============================] - 7s 4ms/step - loss: 5.9599e-04 - mse: 5.9599e-04\n",
            "Epoch 9/20\n",
            "1641/1641 [==============================] - 7s 4ms/step - loss: 5.6543e-04 - mse: 5.6543e-04\n",
            "Epoch 10/20\n",
            "1641/1641 [==============================] - 7s 4ms/step - loss: 5.1524e-04 - mse: 5.1524e-04\n",
            "Epoch 11/20\n",
            "1641/1641 [==============================] - 7s 4ms/step - loss: 5.0922e-04 - mse: 5.0922e-04\n",
            "Epoch 12/20\n",
            "1641/1641 [==============================] - 7s 4ms/step - loss: 4.8943e-04 - mse: 4.8943e-04\n",
            "Epoch 13/20\n",
            "1641/1641 [==============================] - 7s 4ms/step - loss: 4.6582e-04 - mse: 4.6582e-04\n",
            "Epoch 14/20\n",
            "1641/1641 [==============================] - 7s 4ms/step - loss: 4.6913e-04 - mse: 4.6913e-04\n",
            "Epoch 15/20\n",
            "1641/1641 [==============================] - 7s 4ms/step - loss: 5.0042e-04 - mse: 5.0042e-04\n",
            "Epoch 16/20\n",
            "1641/1641 [==============================] - 7s 4ms/step - loss: 4.7095e-04 - mse: 4.7095e-04\n",
            "Epoch 17/20\n",
            "1641/1641 [==============================] - 7s 4ms/step - loss: 4.6298e-04 - mse: 4.6298e-04\n",
            "Epoch 18/20\n",
            "1641/1641 [==============================] - 7s 4ms/step - loss: 4.6053e-04 - mse: 4.6053e-04\n",
            "Epoch 19/20\n",
            "1641/1641 [==============================] - 7s 4ms/step - loss: 4.7356e-04 - mse: 4.7356e-04\n",
            "Epoch 20/20\n",
            "1641/1641 [==============================] - 7s 4ms/step - loss: 4.6806e-04 - mse: 4.6806e-04\n"
          ],
          "name": "stdout"
        },
        {
          "output_type": "execute_result",
          "data": {
            "text/plain": [
              "<tensorflow.python.keras.callbacks.History at 0x7f44f59996d0>"
            ]
          },
          "metadata": {
            "tags": []
          },
          "execution_count": 26
        }
      ]
    },
    {
      "cell_type": "code",
      "metadata": {
        "id": "r6KWIjyIzAOl",
        "colab": {
          "base_uri": "https://localhost:8080/"
        },
        "outputId": "7b594c8a-174b-4018-e583-30d43a89eab3"
      },
      "source": [
        "model.summary()"
      ],
      "execution_count": 27,
      "outputs": [
        {
          "output_type": "stream",
          "text": [
            "Model: \"sequential\"\n",
            "_________________________________________________________________\n",
            "Layer (type)                 Output Shape              Param #   \n",
            "=================================================================\n",
            "lstm (LSTM)                  (None, 64)                16896     \n",
            "_________________________________________________________________\n",
            "dropout (Dropout)            (None, 64)                0         \n",
            "_________________________________________________________________\n",
            "dense (Dense)                (None, 1)                 65        \n",
            "=================================================================\n",
            "Total params: 16,961\n",
            "Trainable params: 16,961\n",
            "Non-trainable params: 0\n",
            "_________________________________________________________________\n"
          ],
          "name": "stdout"
        }
      ]
    },
    {
      "cell_type": "markdown",
      "metadata": {
        "id": "L0SOEBqzkBYw"
      },
      "source": [
        "## Model Evaluation"
      ]
    },
    {
      "cell_type": "code",
      "metadata": {
        "id": "vy_YI3eo42Fv"
      },
      "source": [
        "# Prediction on train and test sets\r\n",
        "train_Prediction = model.predict(x_train) \r\n",
        "test_Prediction = model.predict(x_test)\r\n",
        "\r\n",
        "# Predicted values on test set should be inverted from scaled transform\r\n",
        "converted_Prediction = scaler.inverse_transform(test_Prediction)"
      ],
      "execution_count": 28,
      "outputs": []
    },
    {
      "cell_type": "code",
      "metadata": {
        "colab": {
          "base_uri": "https://localhost:8080/"
        },
        "id": "mjii-7kzo8If",
        "outputId": "c91f794c-82e8-46f8-bb12-3f8667388266"
      },
      "source": [
        "# Calculate root mean squared error for train and test set\r\n",
        "testScore = math.sqrt(mean_squared_error(y_test, test_Prediction))\r\n",
        "print('Test loss: %.3f RMSE' % (testScore))\r\n",
        "\r\n",
        "trainScore = math.sqrt(mean_squared_error(y_train, train_Prediction))\r\n",
        "print('Train loss: %.3f RMSE' % (trainScore))"
      ],
      "execution_count": 29,
      "outputs": [
        {
          "output_type": "stream",
          "text": [
            "Test loss: 0.016 RMSE\n",
            "Train loss: 0.018 RMSE\n"
          ],
          "name": "stdout"
        }
      ]
    },
    {
      "cell_type": "markdown",
      "metadata": {
        "id": "XqxeOLEbrKHy"
      },
      "source": [
        "The result shows that the fitted model is neither under- nor over-fitted."
      ]
    },
    {
      "cell_type": "code",
      "metadata": {
        "colab": {
          "base_uri": "https://localhost:8080/"
        },
        "id": "q2ppTs7BlFTg",
        "outputId": "6a550bae-2a49-464f-e088-7031ef658f20"
      },
      "source": [
        "# Evaluate the network\r\n",
        "sc = model.evaluate(x_test, y_test)"
      ],
      "execution_count": 30,
      "outputs": [
        {
          "output_type": "stream",
          "text": [
            "276/276 [==============================] - 1s 2ms/step - loss: 2.4041e-04 - mse: 2.4041e-04\n"
          ],
          "name": "stdout"
        }
      ]
    },
    {
      "cell_type": "code",
      "metadata": {
        "colab": {
          "base_uri": "https://localhost:8080/"
        },
        "id": "s6ynLYyMQB_1",
        "outputId": "a4f4959b-12fc-421a-dfc6-b473d8f0a499"
      },
      "source": [
        "print(\"%s: %.4f\" % (model.metrics_names[1], sc[1]))"
      ],
      "execution_count": 33,
      "outputs": [
        {
          "output_type": "stream",
          "text": [
            "mse: 0.0002\n"
          ],
          "name": "stdout"
        }
      ]
    },
    {
      "cell_type": "code",
      "metadata": {
        "id": "w-gNcYmF5L3A",
        "colab": {
          "base_uri": "https://localhost:8080/",
          "height": 404
        },
        "outputId": "ae479600-f253-42ee-f5c1-c0b652b9c394"
      },
      "source": [
        "# Plot test and predict data for 60 days\n",
        "plt.figure(figsize=(10,6))\n",
        "plt.plot(PRES_test[6:66], color='blue', label='Real test data')\n",
        "plt.plot(converted_Prediction[:60], color='red', label='Predicted data')\n",
        "plt.title('Real vs. Perdict')\n",
        "plt.xlabel('Days')\n",
        "plt.ylabel('PRES')\n",
        "plt.legend()\n",
        "plt.grid()\n",
        "plt.show()"
      ],
      "execution_count": 36,
      "outputs": [
        {
          "output_type": "display_data",
          "data": {
            "image/png": "[encoded data removed]",
            "text/plain": [
              "<Figure size 720x432 with 1 Axes>"
            ]
          },
          "metadata": {
            "tags": [],
            "needs_background": "light"
          }
        }
      ]
    }
  ]
}
